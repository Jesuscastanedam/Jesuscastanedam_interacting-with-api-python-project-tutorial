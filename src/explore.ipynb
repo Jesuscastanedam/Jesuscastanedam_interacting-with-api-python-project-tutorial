{
    "cells": [
        {
            "cell_type": "markdown",
            "metadata": {},
            "source": [
                "# Explore here"
            ]
        },
        {
            "cell_type": "code",
            "execution_count": 125,
            "metadata": {},
            "outputs": [
                {
                    "name": "stdout",
                    "output_type": "stream",
                    "text": [
                        "track    : Me Pasa (Piscis)\n",
                        "duration :3.3551099564467535min\n",
                        "popularity    : 3.36\n",
                        "cover art: https://i.scdn.co/image/ab67616d0000b27327195cf0beda68740d2ea551\n",
                        "\n",
                        "track    : Brinca (Acuario)\n",
                        "duration :3.653676025981281min\n",
                        "popularity    : 3.65\n",
                        "cover art: https://i.scdn.co/image/ab67616d0000b27327195cf0beda68740d2ea551\n",
                        "\n",
                        "track    : Hora Loca\n",
                        "duration :3.1970769391794547min\n",
                        "popularity    : 3.2\n",
                        "cover art: https://i.scdn.co/image/ab67616d0000b2732518e2526cf69abb761e42f6\n",
                        "\n",
                        "track    : Binikini\n",
                        "duration :3.05421055824555min\n",
                        "popularity    : 3.05\n",
                        "cover art: https://i.scdn.co/image/ab67616d0000b2732518e2526cf69abb761e42f6\n",
                        "\n",
                        "track    : Corazón Adentro (Escorpio)\n",
                        "duration :2.9444274444784444min\n",
                        "popularity    : 2.94\n",
                        "cover art: https://i.scdn.co/image/ab67616d0000b27327195cf0beda68740d2ea551\n",
                        "\n"
                    ]
                }
            ],
            "source": [
                "import os\n",
                "import pandas as pd\n",
                "import seaborn as sns\n",
                "from dotenv import load_dotenv\n",
                "import spotipy \n",
                "from spotipy.oauth2 import SpotifyClientCredentials\n",
                "\n",
                "# load the .env file variables\n",
                "load_dotenv()\n",
                "# \n",
                "import os\n",
                "\n",
                "client_id = os.environ.get(\"CLIENT_ID\")\n",
                "client_secret = os.environ.get(\"CLIENT_SECRET\")\n",
                "\n",
                "\n",
                "\n",
                "rawa_uri = 'https://open.spotify.com/artist/2AbQwU2cuEGfD465wCXlg2?si=MJUnVQPoQYG9Bhz8ssQz_w'\n",
                "spotify = spotipy.Spotify(client_credentials_manager=SpotifyClientCredentials( client_id=client_id, client_secret=client_secret))\n",
                "\n",
                "results = spotify.artist_top_tracks(rawa_uri)\n",
                "top_tracks = []\n",
                "for track in results['tracks'][:5]:\n",
                "    print('track    : ' + track['name'])\n",
                "    print('duration :'  + str(track['duration_ms'] / 60000.12)+'min')\n",
                "    print('popularity    : ' + str(round(track['duration_ms'] / 60000.12, 2)))\n",
                "    print('cover art: ' + track['album']['images'][0]['url'])\n",
                "    print()\n",
                "    top_tracks.append(((track['name'], round(track['duration_ms'] / 60000.12, 2),track['popularity'])))\n",
                "\n",
                "\n"
            ]
        },
        {
            "cell_type": "code",
            "execution_count": 154,
            "metadata": {},
            "outputs": [
                {
                    "data": {
                        "text/html": [
                            "<div>\n",
                            "<style scoped>\n",
                            "    .dataframe tbody tr th:only-of-type {\n",
                            "        vertical-align: middle;\n",
                            "    }\n",
                            "\n",
                            "    .dataframe tbody tr th {\n",
                            "        vertical-align: top;\n",
                            "    }\n",
                            "\n",
                            "    .dataframe thead th {\n",
                            "        text-align: right;\n",
                            "    }\n",
                            "</style>\n",
                            "<table border=\"1\" class=\"dataframe\">\n",
                            "  <thead>\n",
                            "    <tr style=\"text-align: right;\">\n",
                            "      <th></th>\n",
                            "      <th>0</th>\n",
                            "      <th>Tiempo</th>\n",
                            "      <th>Popularidad</th>\n",
                            "    </tr>\n",
                            "  </thead>\n",
                            "  <tbody>\n",
                            "    <tr>\n",
                            "      <th>0</th>\n",
                            "      <td>Me Pasa (Piscis)</td>\n",
                            "      <td>3.36</td>\n",
                            "      <td>67</td>\n",
                            "    </tr>\n",
                            "    <tr>\n",
                            "      <th>1</th>\n",
                            "      <td>Brinca (Acuario)</td>\n",
                            "      <td>3.65</td>\n",
                            "      <td>71</td>\n",
                            "    </tr>\n",
                            "    <tr>\n",
                            "      <th>2</th>\n",
                            "      <td>Hora Loca</td>\n",
                            "      <td>3.20</td>\n",
                            "      <td>68</td>\n",
                            "    </tr>\n",
                            "    <tr>\n",
                            "      <th>3</th>\n",
                            "      <td>Binikini</td>\n",
                            "      <td>3.05</td>\n",
                            "      <td>66</td>\n",
                            "    </tr>\n",
                            "    <tr>\n",
                            "      <th>4</th>\n",
                            "      <td>Corazón Adentro (Escorpio)</td>\n",
                            "      <td>2.94</td>\n",
                            "      <td>64</td>\n",
                            "    </tr>\n",
                            "  </tbody>\n",
                            "</table>\n",
                            "</div>"
                        ],
                        "text/plain": [
                            "                            0  Tiempo  Popularidad\n",
                            "0            Me Pasa (Piscis)    3.36           67\n",
                            "1            Brinca (Acuario)    3.65           71\n",
                            "2                   Hora Loca    3.20           68\n",
                            "3                    Binikini    3.05           66\n",
                            "4  Corazón Adentro (Escorpio)    2.94           64"
                        ]
                    },
                    "execution_count": 154,
                    "metadata": {},
                    "output_type": "execute_result"
                }
            ],
            "source": [
                "dt = pd.DataFrame(top_tracks)\n",
                "dt.rename(columns={1: 'Tiempo', 2: 'Popularidad'}, inplace=True)\n",
                "\n",
                "dt\n"
            ]
        },
        {
            "cell_type": "code",
            "execution_count": 158,
            "metadata": {},
            "outputs": [
                {
                    "data": {
                        "text/html": [
                            "<div>\n",
                            "<style scoped>\n",
                            "    .dataframe tbody tr th:only-of-type {\n",
                            "        vertical-align: middle;\n",
                            "    }\n",
                            "\n",
                            "    .dataframe tbody tr th {\n",
                            "        vertical-align: top;\n",
                            "    }\n",
                            "\n",
                            "    .dataframe thead th {\n",
                            "        text-align: right;\n",
                            "    }\n",
                            "</style>\n",
                            "<table border=\"1\" class=\"dataframe\">\n",
                            "  <thead>\n",
                            "    <tr style=\"text-align: right;\">\n",
                            "      <th></th>\n",
                            "      <th>0</th>\n",
                            "      <th>Tiempo</th>\n",
                            "      <th>Popularidad</th>\n",
                            "    </tr>\n",
                            "  </thead>\n",
                            "  <tbody>\n",
                            "    <tr>\n",
                            "      <th>1</th>\n",
                            "      <td>Brinca (Acuario)</td>\n",
                            "      <td>3.65</td>\n",
                            "      <td>71</td>\n",
                            "    </tr>\n",
                            "    <tr>\n",
                            "      <th>2</th>\n",
                            "      <td>Hora Loca</td>\n",
                            "      <td>3.20</td>\n",
                            "      <td>68</td>\n",
                            "    </tr>\n",
                            "    <tr>\n",
                            "      <th>0</th>\n",
                            "      <td>Me Pasa (Piscis)</td>\n",
                            "      <td>3.36</td>\n",
                            "      <td>67</td>\n",
                            "    </tr>\n",
                            "  </tbody>\n",
                            "</table>\n",
                            "</div>"
                        ],
                        "text/plain": [
                            "                  0  Tiempo  Popularidad\n",
                            "1  Brinca (Acuario)    3.65           71\n",
                            "2         Hora Loca    3.20           68\n",
                            "0  Me Pasa (Piscis)    3.36           67"
                        ]
                    },
                    "execution_count": 158,
                    "metadata": {},
                    "output_type": "execute_result"
                }
            ],
            "source": [
                "dt_sort = dt.sort_values(by='Popularidad',ascending=False)\n",
                "dt_top_3 = dt_sort.loc[dt_sort['Popularidad']>=67]\n",
                "dt_top_3"
            ]
        },
        {
            "cell_type": "code",
            "execution_count": 163,
            "metadata": {},
            "outputs": [
                {
                    "data": {
                        "image/png": "[encoded data removed]",
                        "text/plain": [
                            "<Figure size 640x480 with 1 Axes>"
                        ]
                    },
                    "metadata": {},
                    "output_type": "display_data"
                }
            ],
            "source": [
                "import matplotlib.pyplot as plt\n",
                "sns.scatterplot(x=dt_top_3['Tiempo'],y=dt_top_3['Popularidad'])\n",
                "\n",
                "# Agregar etiquetas a cada punto\n",
                "for i in range(len(dt_top_3)):\n",
                "    plt.text(dt_top_3[\"Tiempo\"][i], dt_top_3['Popularidad'][i], dt_top_3[0][i], \n",
                "             horizontalalignment='left', verticalalignment='bottom', \n",
                "             fontsize=12, color='black')\n",
                "\n",
                "\n",
                "plt.show()"
            ]
        },
        {
            "cell_type": "markdown",
            "metadata": {},
            "source": [
                "Dada la escasez de datos, es difícil llegar a una conclusión sólida. Según lo observado en el gráfico, no hay suficiente evidencia para sostener que las canciones más cortas sean más populares. Además, el análisis no considera cuándo se lanzaron las canciones: con el tiempo, su popularidad podría disminuir independientemente de su duración, lo que añade otra variable no contemplada, tambien se podría tomar en cuenta más variables como género musical, artista, promoción, etc."
            ]
        }
    ],
    "metadata": {
        "kernelspec": {
            "display_name": "Python 3",
            "language": "python",
            "name": "python3"
        },
        "language_info": {
            "codemirror_mode": {
                "name": "ipython",
                "version": 3
            },
            "file_extension": ".py",
            "mimetype": "text/x-python",
            "name": "python",
            "nbconvert_exporter": "python",
            "pygments_lexer": "ipython3",
            "version": "3.11.4"
        },
        "orig_nbformat": 4
    },
    "nbformat": 4,
    "nbformat_minor": 2
}
